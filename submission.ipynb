{
 "cells": [
  {
   "cell_type": "markdown",
   "metadata": {},
   "source": [
    "# My project\n",
    "\n",
    "## Import packages"
   ]
  },
  {
   "cell_type": "code",
   "execution_count": 1,
   "metadata": {
    "collapsed": true
   },
   "outputs": [],
   "source": [
    "import matplotlib.pyplot as plt\n",
    "import matplotlib.image as mpimg\n",
    "import numpy as np\n",
    "import cv2\n",
    "from moviepy.editor import VideoFileClip\n",
    "from IPython.display import HTML\n",
    "%matplotlib inline"
   ]
  },
  {
   "cell_type": "markdown",
   "metadata": {},
   "source": [
    "## Model Building"
   ]
  },
  {
   "cell_type": "code",
   "execution_count": 2,
   "metadata": {
    "collapsed": true
   },
   "outputs": [],
   "source": [
    "# helper function\n",
    "## return angles in radian\n",
    "def get_angles(lines):\n",
    "    x1, y1, x2, y2 = np.hsplit(lines[:, 0], 4)\n",
    "    return np.arctan2(y1 - y2, x1 - x2)\n",
    "\n",
    "# sub classes\n",
    "## apply gaussian blur\n",
    "class GaussianBlur(object):\n",
    "    def __init__(self, kernel_size):\n",
    "        self.kernel_size = kernel_size\n",
    "    \n",
    "    def __call__(self, image):\n",
    "        return cv2.GaussianBlur(image, (self.kernel_size, self.kernel_size), 0)\n",
    "\n",
    "## extract saturation (channel=1) or brightness (channel=2)\n",
    "class HSVConversion(object):\n",
    "    def __init__(self, left_lane, right_lane, channel):\n",
    "        self.vertices = np.array([left_lane, right_lane])\n",
    "        self.channel = channel\n",
    "    \n",
    "    def __call__(self, image):\n",
    "        img = cv2.cvtColor(image, cv2.COLOR_RGB2HSV)[:, :, self.channel]\n",
    "        return img\n",
    "\n",
    "## apply canny filter\n",
    "class CannyEdgeDetection(object):\n",
    "    def __init__(self, low, high):\n",
    "        self.low = low\n",
    "        self.high = high\n",
    "    \n",
    "    def __call__(self, image):\n",
    "        return cv2.Canny(image, self.low, self.high)\n",
    "\n",
    "## get masked image\n",
    "class Mask(object):\n",
    "    def __init__(self, left_lane, right_lane):\n",
    "        self.vertices = np.array([left_lane, right_lane])\n",
    "    \n",
    "    def __call__(self, image):\n",
    "        mask = np.zeros_like(image)\n",
    "        shape = image.shape\n",
    "        ignore_mask_color = 255 if len(shape) < 3 else (255,) * shape[2]\n",
    "        cv2.fillPoly(mask, self.vertices, ignore_mask_color)\n",
    "        masked_image = cv2.bitwise_and(image, mask)\n",
    "        return masked_image\n",
    "\n",
    "## detect lines by hough transformation\n",
    "class HoughLines(object):\n",
    "    def __init__(self, rho, theta, threshold, min_line_len, max_line_gap, angle_min, angle_max, color):\n",
    "        self.rho = rho\n",
    "        self.theta = theta\n",
    "        self.threshold = threshold\n",
    "        self.min_line_len = min_line_len\n",
    "        self.max_line_gap = max_line_gap\n",
    "        self.angle_min = angle_min\n",
    "        self.angle_max = angle_max\n",
    "        self.color = color\n",
    "    \n",
    "    def __call__(self, image):\n",
    "        lines = cv2.HoughLinesP(image, self.rho, self.theta, self.threshold, np.array([]),\n",
    "                                minLineLength=self.min_line_len, maxLineGap=self.max_line_gap)\n",
    "        if lines is None:\n",
    "            return None, None\n",
    "        x1, y1, x2, y2 = np.hsplit(lines[:, 0], 4)\n",
    "        angles = get_angles(lines) * 180 / np.pi\n",
    "        # normalize to 0 <= angle < 180\n",
    "        angles %= 180\n",
    "        # choose lines by angle\n",
    "        angles_left = (np.hstack((x1, x2)) < image.shape[1] / 2).all(axis=1, keepdims=True)\n",
    "        angles_right = ~ angles_left\n",
    "        lines_left = np.all((angles_left, angles < 180 - self.angle_min, angles > 180 - self.angle_max), axis=0).ravel()\n",
    "        lines_right = np.all((angles_right, angles > self.angle_min, angles < self.angle_max), axis=0).ravel()\n",
    "        return lines[lines_left], lines[lines_right]\n",
    "\n",
    "class Draw(object):\n",
    "    def __init__(self):\n",
    "        pass\n",
    "    \n",
    "    def __call__(self):\n",
    "        pass\n",
    "\n",
    "## synthesize lines\n",
    "class Synthesis(object):\n",
    "    def __init__(self, alpha=.8, beta=1., gamma=0.):\n",
    "        self.alpha = alpha\n",
    "        self.beta = beta\n",
    "        self.gamma = gamma\n",
    "    \n",
    "    def __call__(self, image, initial_image):\n",
    "        return cv2.addWeighted(initial_image, self.alpha, image, self.beta, self.gamma)\n",
    "\n",
    "class HSVModel(object):\n",
    "    def __init__(self,\n",
    "                 region_of_interest={\n",
    "                     'left_lane': np.array([(440, 330), (470, 330), (220, 540), (110, 540)]),\n",
    "                     'right_lane': np.array([(510, 330), (530, 330), (910, 540), (810, 540)])},\n",
    "                 gaussian_kernel_size=9,\n",
    "                 hsv_channel=0,\n",
    "                edge_low=0, edge_high=0,\n",
    "                hough_rho=1, hough_theta=np.pi/720, hough_threshold=15,\n",
    "                hough_min_line_len=10, hough_max_line_gap=5,\n",
    "                hough_angle_min=25, hough_angle_max=40,\n",
    "                hough_color=[255, 0, 0]):\n",
    "        self.top = region_of_interest['left_lane'][0, 1]\n",
    "        self.bottom = region_of_interest['left_lane'][-1, 1]\n",
    "        self.blur = GaussianBlur(kernel_size=gaussian_kernel_size)\n",
    "        self.hsv = HSVConversion(left_lane=region_of_interest['left_lane'], right_lane=region_of_interest['right_lane'], channel=hsv_channel)\n",
    "        self.edge = CannyEdgeDetection(low=edge_low, high=edge_high)\n",
    "        self.mask = Mask(left_lane=region_of_interest['left_lane'], right_lane=region_of_interest['right_lane'])\n",
    "        self.hough = HoughLines(rho=hough_rho, theta=hough_theta, threshold=hough_threshold,\n",
    "                                min_line_len=hough_min_line_len, max_line_gap=hough_max_line_gap,\n",
    "                                angle_min=hough_angle_min, angle_max=hough_angle_max,\n",
    "                                color=hough_color)\n",
    "    \n",
    "    def __call__(self, image):\n",
    "        img = self.blur(image)\n",
    "        img = self.hsv(img)\n",
    "        img = self.edge(img)\n",
    "        img = self.mask(img)\n",
    "        return self.hough(img)\n",
    "\n",
    "class Pipeline(object):\n",
    "    def __init__(self):\n",
    "        self.saturation = HSVModel(hsv_channel=1, edge_low=150, edge_high=300, hough_color=[255, 0, 0])\n",
    "        self.brightness = HSVModel(hsv_channel=2, edge_low=10, edge_high=20, hough_color=[0, 255, 0])\n",
    "        self.synthesis = Synthesis()\n",
    "    \n",
    "    def __call__(self, image):\n",
    "        img = cv2.resize(image, (960, 540))\n",
    "        sat_line_left, sat_line_right = self.saturation(img)\n",
    "        bri_line_left, bri_line_right = self.brightness(img)\n",
    "        lines_left = self.concatenate_lines(sat_line_left, bri_line_left)\n",
    "        lines_right = self.concatenate_lines(sat_line_right, bri_line_right)\n",
    "        left_line = self.merge_lines(lines_left)\n",
    "        right_line = self.merge_lines(lines_right)\n",
    "        img = np.zeros(img.shape, dtype=np.uint8)\n",
    "        all_line = []\n",
    "        for line in [left_line, right_line]:\n",
    "            if line is not None:\n",
    "                all_line.append(line)\n",
    "        if len(all_line) > 0:\n",
    "            self.draw_lines(img, all_line)\n",
    "        img = cv2.resize(img, image.shape[:2][::-1])\n",
    "        return self.synthesis(img, image)\n",
    "    \n",
    "    def concatenate_lines(self, lines1, lines2):\n",
    "        if lines1 is not None and lines2 is not None:\n",
    "            return np.concatenate((lines1, lines2), axis=0)\n",
    "        else:\n",
    "            return lines1 if lines2 is None else lines2\n",
    "    \n",
    "    def merge_lines(self, lines):\n",
    "        if lines is None:\n",
    "            return None, None\n",
    "        def weighted_average(values, weights):\n",
    "            return (values * weights).sum() / weights.sum()\n",
    "        x1, y1, x2, y2 = np.hsplit(lines[:, 0], 4)\n",
    "        weights = (x1 - x2) **2 + (y1 - y2) ** 2\n",
    "        angle = weighted_average(get_angles(lines), weights)\n",
    "        intercept = weighted_average(y1 - (y2 - y1) / (x2 - x1) * x1, weights)\n",
    "        top, bottom = self.saturation.top, self.saturation.bottom\n",
    "        dtype = top.dtype\n",
    "        p1 = np.array([(top - intercept) / np.tan(angle), top], dtype=dtype)\n",
    "        p2 = np.array([(bottom - intercept) / np.tan(angle), bottom], dtype=dtype)\n",
    "        return p1, p2\n",
    "    \n",
    "    def draw_lines(self, image, lines, color=[255, 0, 0], thickness=2):\n",
    "        for (x1, y1), (x2, y2) in lines:\n",
    "            cv2.line(image, (x1, y1), (x2, y2), color, thickness)\n",
    "\n",
    "pipeline = Pipeline()"
   ]
  },
  {
   "cell_type": "markdown",
   "metadata": {},
   "source": [
    "## Test on Videos"
   ]
  },
  {
   "cell_type": "code",
   "execution_count": 3,
   "metadata": {
    "collapsed": false
   },
   "outputs": [
    {
     "name": "stdout",
     "output_type": "stream",
     "text": [
      "[MoviePy] >>>> Building video white.mp4\n",
      "[MoviePy] Writing video white.mp4\n"
     ]
    },
    {
     "name": "stderr",
     "output_type": "stream",
     "text": [
      "100%|█████████▉| 221/222 [00:19<00:00, 10.72it/s]\n"
     ]
    },
    {
     "name": "stdout",
     "output_type": "stream",
     "text": [
      "[MoviePy] Done.\n",
      "[MoviePy] >>>> Video ready: white.mp4 \n",
      "\n",
      "CPU times: user 14.1 s, sys: 2.55 s, total: 16.6 s\n",
      "Wall time: 20.3 s\n"
     ]
    }
   ],
   "source": [
    "white_output = 'white.mp4'\n",
    "clip1 = VideoFileClip(\"solidWhiteRight.mp4\")\n",
    "white_clip = clip1.fl_image(pipeline)\n",
    "%time white_clip.write_videofile(white_output, audio=False)"
   ]
  },
  {
   "cell_type": "code",
   "execution_count": 4,
   "metadata": {
    "collapsed": false
   },
   "outputs": [
    {
     "data": {
      "text/html": [
       "\n",
       "<video width=\"960\" height=\"540\" controls>\n",
       "  <source src=\"white.mp4\">\n",
       "</video>\n"
      ],
      "text/plain": [
       "<IPython.core.display.HTML object>"
      ]
     },
     "execution_count": 4,
     "metadata": {},
     "output_type": "execute_result"
    }
   ],
   "source": [
    "HTML(\"\"\"\n",
    "<video width=\"960\" height=\"540\" controls>\n",
    "  <source src=\"{0}\">\n",
    "</video>\n",
    "\"\"\".format(white_output))"
   ]
  },
  {
   "cell_type": "markdown",
   "metadata": {},
   "source": [
    "## Improve the draw_lines() function"
   ]
  },
  {
   "cell_type": "code",
   "execution_count": 5,
   "metadata": {
    "collapsed": false
   },
   "outputs": [
    {
     "name": "stdout",
     "output_type": "stream",
     "text": [
      "[MoviePy] >>>> Building video yellow.mp4\n",
      "[MoviePy] Writing video yellow.mp4\n"
     ]
    },
    {
     "name": "stderr",
     "output_type": "stream",
     "text": [
      "100%|█████████▉| 681/682 [01:10<00:00,  9.63it/s]\n"
     ]
    },
    {
     "name": "stdout",
     "output_type": "stream",
     "text": [
      "[MoviePy] Done.\n",
      "[MoviePy] >>>> Video ready: yellow.mp4 \n",
      "\n",
      "CPU times: user 50.5 s, sys: 7.69 s, total: 58.2 s\n",
      "Wall time: 1min 12s\n"
     ]
    }
   ],
   "source": [
    "yellow_output = 'yellow.mp4'\n",
    "clip2 = VideoFileClip('solidYellowLeft.mp4')\n",
    "yellow_clip = clip2.fl_image(pipeline)\n",
    "%time yellow_clip.write_videofile(yellow_output, audio=False)"
   ]
  },
  {
   "cell_type": "code",
   "execution_count": 6,
   "metadata": {
    "collapsed": false
   },
   "outputs": [
    {
     "data": {
      "text/html": [
       "\n",
       "<video width=\"960\" height=\"540\" controls>\n",
       "  <source src=\"yellow.mp4\">\n",
       "</video>\n"
      ],
      "text/plain": [
       "<IPython.core.display.HTML object>"
      ]
     },
     "execution_count": 6,
     "metadata": {},
     "output_type": "execute_result"
    }
   ],
   "source": [
    "HTML(\"\"\"\n",
    "<video width=\"960\" height=\"540\" controls>\n",
    "  <source src=\"{0}\">\n",
    "</video>\n",
    "\"\"\".format(yellow_output))"
   ]
  },
  {
   "cell_type": "markdown",
   "metadata": {},
   "source": [
    "## Optional Challenge"
   ]
  },
  {
   "cell_type": "code",
   "execution_count": 7,
   "metadata": {
    "collapsed": false
   },
   "outputs": [
    {
     "name": "stdout",
     "output_type": "stream",
     "text": [
      "[MoviePy] >>>> Building video extra.mp4\n",
      "[MoviePy] Writing video extra.mp4\n"
     ]
    },
    {
     "name": "stderr",
     "output_type": "stream",
     "text": [
      "100%|██████████| 251/251 [00:53<00:00,  5.71it/s]\n"
     ]
    },
    {
     "name": "stdout",
     "output_type": "stream",
     "text": [
      "[MoviePy] Done.\n",
      "[MoviePy] >>>> Video ready: extra.mp4 \n",
      "\n",
      "CPU times: user 30.4 s, sys: 4.11 s, total: 34.5 s\n",
      "Wall time: 56.3 s\n"
     ]
    }
   ],
   "source": [
    "challenge_output = 'extra.mp4'\n",
    "clip2 = VideoFileClip('challenge.mp4')\n",
    "challenge_clip = clip2.fl_image(pipeline)\n",
    "%time challenge_clip.write_videofile(challenge_output, audio=False)"
   ]
  },
  {
   "cell_type": "code",
   "execution_count": 8,
   "metadata": {
    "collapsed": false
   },
   "outputs": [
    {
     "data": {
      "text/html": [
       "\n",
       "<video width=\"960\" height=\"540\" controls>\n",
       "  <source src=\"extra.mp4\">\n",
       "</video>\n"
      ],
      "text/plain": [
       "<IPython.core.display.HTML object>"
      ]
     },
     "execution_count": 8,
     "metadata": {},
     "output_type": "execute_result"
    }
   ],
   "source": [
    "HTML(\"\"\"\n",
    "<video width=\"960\" height=\"540\" controls>\n",
    "  <source src=\"{0}\">\n",
    "</video>\n",
    "\"\"\".format(challenge_output))"
   ]
  }
 ],
 "metadata": {
  "kernelspec": {
   "display_name": "Python 3",
   "language": "python",
   "name": "python3"
  },
  "language_info": {
   "codemirror_mode": {
    "name": "ipython",
    "version": 3
   },
   "file_extension": ".py",
   "mimetype": "text/x-python",
   "name": "python",
   "nbconvert_exporter": "python",
   "pygments_lexer": "ipython3",
   "version": "3.5.2"
  }
 },
 "nbformat": 4,
 "nbformat_minor": 2
}
